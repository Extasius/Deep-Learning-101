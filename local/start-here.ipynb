{
 "cells": [
  {
   "cell_type": "code",
   "execution_count": 1,
   "metadata": {},
   "outputs": [
    {
     "name": "stdout",
     "output_type": "stream",
     "text": [
      "Training Step: 2000  | total loss: \u001b[1m\u001b[32m0.00941\u001b[0m\u001b[0m | time: 0.002s\n",
      "| SGD | epoch: 2000 | loss: 0.00941 -- iter: 4/4\n",
      "Testing OR operator\n",
      "0 or 0: [[ 0.04221268]]\n",
      "0 or 1: [[ 0.97519594]]\n",
      "1 or 0: [[ 0.97380346]]\n",
      "1 or 1: [[ 0.99996984]]\n",
      "It's working!\n"
     ]
    }
   ],
   "source": [
    "# 1. Import library\n",
    "import tflearn\n",
    "\n",
    "# 2. Logical OR operator\n",
    "X_OR = [[0., 0.], [0., 1.], [1., 0.], [1., 1.]]\n",
    "Y_truth = [[0.], [1.], [1.], [1.]]\n",
    "\n",
    "# 3. Building our neural network/layers of functions \n",
    "neural_net = tflearn.input_data(shape=[None, 2])\n",
    "neural_net = tflearn.fully_connected(neural_net, 1, activation='sigmoid')\n",
    "neural_net = tflearn.regression(neural_net, optimizer='sgd', learning_rate=2, loss='mean_square')\n",
    "\n",
    "# 4. Train the neural network / Epochs\n",
    "model = tflearn.DNN(neural_net, tensorboard_dir='/output', tensorboard_verbose=1)\n",
    "model.fit(X_OR, Y_truth, n_epoch=2000, snapshot_epoch=False)\n",
    "\n",
    "# 5. Testing final prediction\n",
    "print(\"Testing OR operator\")\n",
    "print(\"0 or 0:\", model.predict([[0., 0.]]))\n",
    "print(\"0 or 1:\", model.predict([[0., 1.]]))\n",
    "print(\"1 or 0:\", model.predict([[1., 0.]]))\n",
    "print(\"1 or 1:\", model.predict([[1., 1.]]))\n",
    "\n",
    "print(\"It's working!\")"
   ]
  },
  {
   "cell_type": "code",
   "execution_count": null,
   "metadata": {
    "collapsed": true
   },
   "outputs": [],
   "source": []
  }
 ],
 "metadata": {
  "kernelspec": {
   "display_name": "Python 3",
   "language": "python",
   "name": "python3"
  },
  "language_info": {
   "codemirror_mode": {
    "name": "ipython",
    "version": 3
   },
   "file_extension": ".py",
   "mimetype": "text/x-python",
   "name": "python",
   "nbconvert_exporter": "python",
   "pygments_lexer": "ipython3",
   "version": "3.6.2"
  }
 },
 "nbformat": 4,
 "nbformat_minor": 2
}
